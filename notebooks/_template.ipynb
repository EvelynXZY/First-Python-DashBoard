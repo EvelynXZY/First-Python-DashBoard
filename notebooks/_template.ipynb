{
 "cells": [
  {
   "cell_type": "markdown",
   "id": "f796b2a3-0d3d-4c2b-9eb4-c876ac3229aa",
   "metadata": {},
   "source": [
    "# A Jupyter Notebook template"
   ]
  },
  {
   "cell_type": "markdown",
   "id": "74c7fe5a",
   "metadata": {},
   "source": [
    "These iPython commands enable automatic reloading changes to your Python code. The `%` operator is used by the notebook to run the command line from a bash shell instead of a Python shell.\n"
   ]
  },
  {
   "cell_type": "markdown",
   "id": "dc58504b",
   "metadata": {},
   "source": [
    "> _You may want to delete comments like the one above and save a personal version of the template without as much clutter_.  Delete cells by highlighting the cell and double-tapping the \"D\" key."
   ]
  },
  {
   "cell_type": "code",
   "execution_count": 11,
   "id": "d582bdac-e188-4de4-827d-8b654fc8f0dc",
   "metadata": {
    "collapsed": true,
    "jupyter": {
     "outputs_hidden": true
    },
    "tags": []
   },
   "outputs": [
    {
     "name": "stdout",
     "output_type": "stream",
     "text": [
      "The autoreload extension is already loaded. To reload it, use:\n",
      "  %reload_ext autoreload\n"
     ]
    }
   ],
   "source": [
    "%load_ext autoreload\n",
    "%autoreload 2"
   ]
  },
  {
   "cell_type": "markdown",
   "id": "7f997e0e-3809-40b8-9e24-f9c18128ce42",
   "metadata": {},
   "source": [
    "Use shift + enter to execute a cell"
   ]
  },
  {
   "cell_type": "markdown",
   "id": "1ccb9d48-f77f-48b1-a265-5ec2bcd8b461",
   "metadata": {},
   "source": [
    "## Imports"
   ]
  },
  {
   "cell_type": "code",
   "execution_count": 14,
   "id": "30c9519b-458d-4c48-92e3-79611dd705d4",
   "metadata": {},
   "outputs": [],
   "source": [
    "import pandas as pd\n",
    "from faker import Faker"
   ]
  },
  {
   "cell_type": "markdown",
   "id": "17508d8c-ec9a-42d8-ac00-824cc4dc5461",
   "metadata": {},
   "source": [
    "Don't forget to run `poetry add <package>` for packages you havent installed"
   ]
  },
  {
   "cell_type": "markdown",
   "id": "2118383c-da65-4425-ad5f-6bd1f49b190d",
   "metadata": {},
   "source": [
    "## Data Example"
   ]
  },
  {
   "cell_type": "code",
   "execution_count": 15,
   "id": "63041332-bdc1-45bc-8e77-2c71b8974e1b",
   "metadata": {},
   "outputs": [],
   "source": [
    "fake = Faker() # initializes Faker generator"
   ]
  },
  {
   "cell_type": "markdown",
   "id": "e4600927-b5d0-4178-8bee-cf864167716f",
   "metadata": {},
   "source": [
    "You can show/hide verbose output"
   ]
  },
  {
   "cell_type": "code",
   "execution_count": 16,
   "id": "0418f41e-2cad-447f-94ab-b16732da2ebb",
   "metadata": {
    "collapsed": true,
    "jupyter": {
     "outputs_hidden": true
    },
    "tags": []
   },
   "outputs": [
    {
     "data": {
      "text/plain": [
       "[6716,\n",
       " 7933,\n",
       " 4147,\n",
       " 7381,\n",
       " 5083,\n",
       " 6357,\n",
       " 9730,\n",
       " 2912,\n",
       " 6079,\n",
       " 7872,\n",
       " 2216,\n",
       " 1173,\n",
       " 2078,\n",
       " 2895,\n",
       " 9315,\n",
       " 4481,\n",
       " 2110,\n",
       " 5426,\n",
       " 3729,\n",
       " 6038,\n",
       " 579,\n",
       " 2374,\n",
       " 9614,\n",
       " 9564,\n",
       " 7762,\n",
       " 6529,\n",
       " 177,\n",
       " 3083,\n",
       " 6042,\n",
       " 7161,\n",
       " 7628,\n",
       " 8149,\n",
       " 8717,\n",
       " 9434,\n",
       " 4281,\n",
       " 7750,\n",
       " 6517,\n",
       " 3544,\n",
       " 4481,\n",
       " 6992,\n",
       " 7887,\n",
       " 2099,\n",
       " 4260,\n",
       " 4322,\n",
       " 5023,\n",
       " 503,\n",
       " 1984,\n",
       " 4100,\n",
       " 8073,\n",
       " 1968,\n",
       " 5358,\n",
       " 9173,\n",
       " 4456,\n",
       " 7103,\n",
       " 1939,\n",
       " 1752,\n",
       " 6020,\n",
       " 8584,\n",
       " 436,\n",
       " 9529,\n",
       " 722,\n",
       " 1547,\n",
       " 952,\n",
       " 5363,\n",
       " 650,\n",
       " 3330,\n",
       " 7354,\n",
       " 7085,\n",
       " 9577,\n",
       " 7214,\n",
       " 5706,\n",
       " 8069,\n",
       " 2640,\n",
       " 4819,\n",
       " 7261,\n",
       " 5277,\n",
       " 7812,\n",
       " 3526,\n",
       " 1203,\n",
       " 875,\n",
       " 9970,\n",
       " 6018,\n",
       " 9266,\n",
       " 3589,\n",
       " 8540,\n",
       " 5634,\n",
       " 9036,\n",
       " 6096,\n",
       " 586,\n",
       " 6341,\n",
       " 8133,\n",
       " 5416,\n",
       " 1593,\n",
       " 545,\n",
       " 4815,\n",
       " 5695,\n",
       " 8139,\n",
       " 8523,\n",
       " 1020,\n",
       " 6338]"
      ]
     },
     "execution_count": 16,
     "metadata": {},
     "output_type": "execute_result"
    }
   ],
   "source": [
    "[fake.pyint() for _ in range(100)]"
   ]
  },
  {
   "cell_type": "markdown",
   "id": "cbea24b4-d630-4de8-8f2f-478e27e32c1c",
   "metadata": {},
   "source": [
    "Store results in a variable -- last line gets output"
   ]
  },
  {
   "cell_type": "code",
   "execution_count": 18,
   "id": "95a13d16-45ff-4c1b-b315-df2f354cb057",
   "metadata": {
    "collapsed": true,
    "jupyter": {
     "outputs_hidden": true
    },
    "tags": []
   },
   "outputs": [
    {
     "data": {
      "text/html": [
       "<div>\n",
       "<style scoped>\n",
       "    .dataframe tbody tr th:only-of-type {\n",
       "        vertical-align: middle;\n",
       "    }\n",
       "\n",
       "    .dataframe tbody tr th {\n",
       "        vertical-align: top;\n",
       "    }\n",
       "\n",
       "    .dataframe thead th {\n",
       "        text-align: right;\n",
       "    }\n",
       "</style>\n",
       "<table border=\"1\" class=\"dataframe\">\n",
       "  <thead>\n",
       "    <tr style=\"text-align: right;\">\n",
       "      <th></th>\n",
       "      <th>x</th>\n",
       "      <th>y</th>\n",
       "    </tr>\n",
       "  </thead>\n",
       "  <tbody>\n",
       "    <tr>\n",
       "      <th>0</th>\n",
       "      <td>190</td>\n",
       "      <td>3426</td>\n",
       "    </tr>\n",
       "    <tr>\n",
       "      <th>1</th>\n",
       "      <td>7564</td>\n",
       "      <td>4304</td>\n",
       "    </tr>\n",
       "    <tr>\n",
       "      <th>2</th>\n",
       "      <td>9860</td>\n",
       "      <td>1459</td>\n",
       "    </tr>\n",
       "    <tr>\n",
       "      <th>3</th>\n",
       "      <td>9788</td>\n",
       "      <td>7699</td>\n",
       "    </tr>\n",
       "    <tr>\n",
       "      <th>4</th>\n",
       "      <td>4624</td>\n",
       "      <td>6668</td>\n",
       "    </tr>\n",
       "    <tr>\n",
       "      <th>...</th>\n",
       "      <td>...</td>\n",
       "      <td>...</td>\n",
       "    </tr>\n",
       "    <tr>\n",
       "      <th>95</th>\n",
       "      <td>9852</td>\n",
       "      <td>7174</td>\n",
       "    </tr>\n",
       "    <tr>\n",
       "      <th>96</th>\n",
       "      <td>5045</td>\n",
       "      <td>4209</td>\n",
       "    </tr>\n",
       "    <tr>\n",
       "      <th>97</th>\n",
       "      <td>1617</td>\n",
       "      <td>6275</td>\n",
       "    </tr>\n",
       "    <tr>\n",
       "      <th>98</th>\n",
       "      <td>9109</td>\n",
       "      <td>9207</td>\n",
       "    </tr>\n",
       "    <tr>\n",
       "      <th>99</th>\n",
       "      <td>2717</td>\n",
       "      <td>9433</td>\n",
       "    </tr>\n",
       "  </tbody>\n",
       "</table>\n",
       "<p>100 rows × 2 columns</p>\n",
       "</div>"
      ],
      "text/plain": [
       "       x     y\n",
       "0    190  3426\n",
       "1   7564  4304\n",
       "2   9860  1459\n",
       "3   9788  7699\n",
       "4   4624  6668\n",
       "..   ...   ...\n",
       "95  9852  7174\n",
       "96  5045  4209\n",
       "97  1617  6275\n",
       "98  9109  9207\n",
       "99  2717  9433\n",
       "\n",
       "[100 rows x 2 columns]"
      ]
     },
     "execution_count": 18,
     "metadata": {},
     "output_type": "execute_result"
    }
   ],
   "source": [
    "df = pd.DataFrame({\"x\": [fake.pyint() for _ in range(100)], \"y\": [fake.pyint() for _ in range(100)]})\n",
    "df"
   ]
  },
  {
   "cell_type": "code",
   "execution_count": 20,
   "id": "80ecca97-76e2-4cc8-bef2-cfac4ee6e0e8",
   "metadata": {
    "tags": []
   },
   "outputs": [
    {
     "data": {
      "text/plain": [
       "<AxesSubplot:>"
      ]
     },
     "execution_count": 20,
     "metadata": {},
     "output_type": "execute_result"
    },
    {
     "data": {
      "image/png": "[encoded data removed]",
      "text/plain": [
       "<Figure size 432x288 with 1 Axes>"
      ]
     },
     "metadata": {
      "needs_background": "light"
     },
     "output_type": "display_data"
    }
   ],
   "source": [
    "df.plot() # uses matplotlib by default"
   ]
  },
  {
   "cell_type": "markdown",
   "id": "ab404c90-8bcf-4253-8357-86a2c3bc3c0e",
   "metadata": {},
   "source": [
    "D+D deletes a cell"
   ]
  },
  {
   "cell_type": "code",
   "execution_count": null,
   "id": "43743972-5ca6-44ac-9f06-529bf60f0888",
   "metadata": {},
   "outputs": [],
   "source": []
  }
 ],
 "metadata": {
  "kernelspec": {
   "display_name": "Python 3 (ipykernel)",
   "language": "python",
   "name": "python3"
  },
  "language_info": {
   "codemirror_mode": {
    "name": "ipython",
    "version": 3
   },
   "file_extension": ".py",
   "mimetype": "text/x-python",
   "name": "python",
   "nbconvert_exporter": "python",
   "pygments_lexer": "ipython3",
   "version": "3.9.6"
  }
 },
 "nbformat": 4,
 "nbformat_minor": 5
}
